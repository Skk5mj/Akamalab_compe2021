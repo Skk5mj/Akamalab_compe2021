{
 "cells": [
  {
   "cell_type": "code",
   "execution_count": 1,
   "source": [
    "%matplotlib inline \r\n",
    "import torch\r\n",
    "from torch import nn, optim\r\n",
    "import torch.nn.functional as F\r\n",
    "from torch.utils import data\r\n",
    "import pandas as pd\r\n",
    "import numpy as np\r\n",
    "import matplotlib.pyplot as plt"
   ],
   "outputs": [],
   "metadata": {}
  },
  {
   "cell_type": "code",
   "execution_count": 2,
   "source": [
    "# データ\r\n",
    "train_data = pd.read_csv(\"./dataset/NKI_RS_train_data.csv\",index_col=0)\r\n",
    "train_label = pd.read_csv(\"./dataset/NKI_RS_train_label.csv\",index_col = 0)\r\n",
    "test_data = pd.read_csv(\"./dataset/NKI_RS_test_data.csv\", index_col = 0)\r\n",
    "train_label = train_label[\"sex\"]"
   ],
   "outputs": [],
   "metadata": {}
  },
  {
   "cell_type": "code",
   "execution_count": 3,
   "source": [
    "from sklearn.model_selection import StratifiedKFold\r\n",
    "skf = StratifiedKFold(n_splits = 5, shuffle=True, random_state = 0)\r\n",
    "device = torch.device(\"cuda\" if torch.cuda.is_available() else \"cpu\")\r\n",
    "# # 訓練用の関数\r\n",
    "# from train_eval_loop import train_valid_loop\r\n",
    "# データをtensor型にかえる関数\r\n",
    "from datapreparation import df2tensor"
   ],
   "outputs": [],
   "metadata": {}
  },
  {
   "cell_type": "code",
   "execution_count": 4,
   "source": [
    "# modelのimport\r\n",
    "from models_NN import Net_deeper, Net_deeper2, Net_nky, Net_nky2, Net_deeper_elu, Net_deeper_elu2, Net_deeper_mish\r\n",
    "# rvsd2...ReLUをELUに変更\r\n",
    "# deeper_mish... Net_deeperのReLUをELUに変更\r\n",
    "\r\n",
    "# 訓練/検証用関数,train loss基準でEarly stop\r\n",
    "from train_eval_loop_lossbassed import train_valid_loop_lossbased"
   ],
   "outputs": [],
   "metadata": {}
  },
  {
   "cell_type": "code",
   "execution_count": 5,
   "source": [
    "# いちばん単純なモデル\r\n",
    "num = 0\r\n",
    "n_epoch = 500\r\n",
    "for train_idx, valid_idx in skf.split(train_data, train_label):\r\n",
    "    print(f\"--------------------This is {num + 1}th fold.10epochごとの結果を以下に出力--------------------\")\r\n",
    "    # modelの初期化\r\n",
    "    model = Net_deeper().to(device)\r\n",
    "    optimizer = optim.SGD(model.parameters(), lr = 1e-2, momentum = 0.9, weight_decay = 5e-3)\r\n",
    "    best_score = 0\r\n",
    "    # 分割した訓練データと検証データをtensor型に変換\r\n",
    "    trainloader, validloader, valid_data, valid_label = df2tensor(\r\n",
    "        train_data.iloc[train_idx], train_label.iloc[train_idx],\r\n",
    "        train_data.iloc[valid_idx], train_label.iloc[valid_idx], batch_size = 64)\r\n",
    "    # モデルの訓練と評価, earlystoppipngによっていちばんauc_scoreの高かった\r\n",
    "    train_acc_list, train_loss_list, valid_acc_list, valid_loss_list, auc_score_list = train_valid_loop_lossbased(\r\n",
    "        trainloader, validloader, valid_data, valid_label, model, n_epoch, optimizer)\r\n",
    "    auc_score = np.max(auc_score_list)\r\n",
    "    if auc_score > best_score:\r\n",
    "        best_score = auc_score\r\n",
    "        # この辺のfoldごとの最良モデルの読み込みをもう少しうまく、簡潔に書けないか\r\n",
    "        best_model = model.load_state_dict(torch.load(\"model.pth\"))\r\n",
    "    for a,b,c,d,e in zip(\r\n",
    "        train_loss_list, train_acc_list,\r\n",
    "        valid_loss_list, valid_acc_list, auc_score_list):\r\n",
    "        print(f\"train loss:{a:.5f},train acc:{b:.5f}, valid loss:{c:.5f}, valid acc:{d:.5f}, auc_score:{e:.5f}\")\r\n",
    "    num += 1"
   ],
   "outputs": [
    {
     "output_type": "stream",
     "name": "stdout",
     "text": [
      "--------------------This is 1th fold.10epochごとの結果を以下に出力--------------------\n",
      "Early Stopping is working in 45th epoch.\n",
      "Best auc score in validation is 0.7209821428571429\n",
      "train loss:0.65390,train acc:0.62037, valid loss:0.69616, valid acc:0.39506, auc_score:0.66247\n",
      "train loss:0.31667,train acc:0.99846, valid loss:0.61905, valid acc:0.66667, auc_score:0.58147\n",
      "train loss:0.31460,train acc:1.00000, valid loss:0.62005, valid acc:0.65432, auc_score:0.72098\n",
      "train loss:0.31449,train acc:1.00000, valid loss:0.62075, valid acc:0.66049, auc_score:0.67650\n",
      "train loss:0.31448,train acc:1.00000, valid loss:0.62114, valid acc:0.64815, auc_score:0.69627\n",
      "--------------------This is 2th fold.10epochごとの結果を以下に出力--------------------\n",
      "Early Stopping is working in 49th epoch.\n",
      "Best auc score in validation is 0.7637117346938775\n",
      "train loss:0.67513,train acc:0.57099, valid loss:0.73442, valid acc:0.39506, auc_score:0.68264\n",
      "train loss:0.31557,train acc:1.00000, valid loss:0.59525, valid acc:0.68519, auc_score:0.66837\n",
      "train loss:0.31483,train acc:1.00000, valid loss:0.59300, valid acc:0.67901, auc_score:0.72146\n",
      "train loss:0.31469,train acc:1.00000, valid loss:0.59135, valid acc:0.68519, auc_score:0.70026\n",
      "train loss:0.31465,train acc:1.00000, valid loss:0.59031, valid acc:0.67901, auc_score:0.76244\n",
      "train loss:0.31467,train acc:1.00000, valid loss:0.58945, valid acc:0.67901, auc_score:0.76371\n",
      "--------------------This is 3th fold.10epochごとの結果を以下に出力--------------------\n",
      "Early Stopping is working in 43th epoch.\n",
      "Best auc score in validation is 0.7855548469387755\n",
      "train loss:0.66576,train acc:0.60802, valid loss:0.69996, valid acc:0.39506, auc_score:0.66087\n",
      "train loss:0.31639,train acc:0.99846, valid loss:0.59400, valid acc:0.67284, auc_score:0.70536\n",
      "train loss:0.31444,train acc:1.00000, valid loss:0.59297, valid acc:0.67284, auc_score:0.71110\n",
      "train loss:0.31435,train acc:1.00000, valid loss:0.59215, valid acc:0.67284, auc_score:0.73661\n",
      "train loss:0.31435,train acc:1.00000, valid loss:0.59110, valid acc:0.67284, auc_score:0.76164\n",
      "--------------------This is 4th fold.10epochごとの結果を以下に出力--------------------\n",
      "Early Stopping is working in 57th epoch.\n",
      "Best auc score in validation is 0.8362995029661697\n",
      "train loss:0.67548,train acc:0.56944, valid loss:0.69569, valid acc:0.38889, auc_score:0.73192\n",
      "train loss:0.31643,train acc:0.99846, valid loss:0.54878, valid acc:0.75309, auc_score:0.75918\n",
      "train loss:0.31592,train acc:0.99846, valid loss:0.54413, valid acc:0.76543, auc_score:0.78579\n",
      "train loss:0.31584,train acc:0.99846, valid loss:0.54261, valid acc:0.77778, auc_score:0.79926\n",
      "train loss:0.31461,train acc:1.00000, valid loss:0.54420, valid acc:0.75309, auc_score:0.81914\n",
      "train loss:0.31436,train acc:1.00000, valid loss:0.54248, valid acc:0.75926, auc_score:0.82588\n",
      "--------------------This is 5th fold.10epochごとの結果を以下に出力--------------------\n",
      "Early Stopping is working in 42th epoch.\n",
      "Best auc score in validation is 0.7821067821067821\n",
      "train loss:0.66588,train acc:0.58488, valid loss:0.68594, valid acc:0.61111, auc_score:0.59035\n",
      "train loss:0.31502,train acc:1.00000, valid loss:0.58957, valid acc:0.70370, auc_score:0.50810\n",
      "train loss:0.31438,train acc:1.00000, valid loss:0.58595, valid acc:0.70370, auc_score:0.71878\n",
      "train loss:0.31430,train acc:1.00000, valid loss:0.58421, valid acc:0.70370, auc_score:0.70835\n",
      "train loss:0.31431,train acc:1.00000, valid loss:0.58253, valid acc:0.69753, auc_score:0.72503\n"
     ]
    }
   ],
   "metadata": {}
  },
  {
   "cell_type": "code",
   "execution_count": 9,
   "source": [
    "model = Net_deeper().to(device)\r\n",
    "model.eval()\r\n",
    "model.load_state_dict(torch.load(\"model.pth\"))\r\n",
    "test_data_tensor = torch.tensor(np.array(test_data.astype('f')))\r\n",
    "prediction_deeper = model.forward(test_data_tensor.to(device))\r\n",
    "# print(bn_prediction)\r\n",
    "print(prediction_deeper[:,1])\r\n",
    "df_submission = pd.read_csv(\"./dataset/sample_submission.csv\",header = 0)\r\n",
    "df_submission['sex'] = prediction_deeper[:, 1].to('cpu').detach().numpy().copy()\r\n",
    "df_submission.to_csv(\"./predicted_label/DNN_deeper.csv\")"
   ],
   "outputs": [
    {
     "output_type": "stream",
     "name": "stdout",
     "text": [
      "tensor([4.7456e-01, 9.8483e-01, 9.9209e-01, 4.3316e-02, 9.8578e-01, 3.6843e-01,\n",
      "        9.7884e-01, 3.4610e-01, 9.8681e-01, 9.8632e-01, 9.9123e-01, 9.8585e-01,\n",
      "        8.5624e-01, 9.5454e-01, 9.7807e-01, 8.6344e-01, 4.3302e-01, 7.7475e-01,\n",
      "        9.2072e-01, 9.3118e-01, 9.3594e-01, 5.1186e-01, 8.4925e-01, 8.8699e-01,\n",
      "        9.8686e-01, 1.1044e-01, 3.3469e-01, 2.4487e-01, 6.1847e-01, 9.3910e-01,\n",
      "        4.9001e-01, 6.2445e-01, 1.8359e-01, 8.6194e-01, 3.7070e-04, 9.8903e-01,\n",
      "        2.3598e-01, 9.6812e-01, 9.4321e-01, 2.8989e-01, 9.8535e-01, 6.4283e-01,\n",
      "        1.3371e-01, 5.1883e-01, 8.6709e-01, 2.1564e-01, 9.8754e-01, 9.9645e-01,\n",
      "        9.6631e-01, 9.8857e-01, 7.6193e-01, 2.5030e-01, 9.3519e-01, 9.3118e-01,\n",
      "        9.3099e-01, 5.3924e-02, 9.8720e-01, 9.8569e-01, 2.7300e-02, 9.7733e-01,\n",
      "        8.1877e-01, 1.0120e-01, 2.7151e-03, 9.6695e-01, 6.4341e-02, 1.6251e-02,\n",
      "        9.8250e-01, 9.9713e-01, 1.8451e-01, 9.9521e-01, 5.5333e-01, 9.8303e-01,\n",
      "        8.1353e-02, 9.9153e-01, 1.7365e-01, 7.5985e-01, 4.9701e-03, 9.6087e-01,\n",
      "        9.6624e-01, 9.8696e-01, 8.7429e-01], device='cuda:0',\n",
      "       grad_fn=<SelectBackward>)\n"
     ]
    }
   ],
   "metadata": {}
  },
  {
   "cell_type": "code",
   "execution_count": 10,
   "source": [
    "# linear -> batch norm -> relu -> dropout\r\n",
    "num = 0\r\n",
    "n_epoch = 500\r\n",
    "for train_idx, valid_idx in skf.split(train_data, train_label):\r\n",
    "    print(f\"--------------------This is {num + 1}th fold.10epochごとの結果を以下に出力--------------------\")\r\n",
    "    # modelの初期化\r\n",
    "    model = Net_deeper2().to(device)\r\n",
    "    optimizer = optim.SGD(model.parameters(), lr = 1e-2, momentum = 0.9, weight_decay = 5e-3)\r\n",
    "    best_score = 0\r\n",
    "    # 分割した訓練データと検証データをtensor型に変換\r\n",
    "    trainloader, validloader, valid_data, valid_label = df2tensor(\r\n",
    "        train_data.iloc[train_idx], train_label.iloc[train_idx],\r\n",
    "        train_data.iloc[valid_idx], train_label.iloc[valid_idx], batch_size = 64)\r\n",
    "    # モデルの訓練と評価, earlystoppipngによっていちばんauc_scoreの高かった\r\n",
    "    train_acc_list, train_loss_list, valid_acc_list, valid_loss_list, auc_score_list = train_valid_loop_lossbased(\r\n",
    "        trainloader, validloader, valid_data, valid_label, model, n_epoch, optimizer)\r\n",
    "    auc_score = np.max(auc_score_list)\r\n",
    "    if auc_score > best_score:\r\n",
    "        best_score = auc_score\r\n",
    "        # この辺のfoldごとの最良モデルの読み込みをもう少しうまく、簡潔に書けないか\r\n",
    "        best_model = model.load_state_dict(torch.load(\"model.pth\"))\r\n",
    "    for a,b,c,d,e in zip(\r\n",
    "        train_loss_list, train_acc_list,\r\n",
    "        valid_loss_list, valid_acc_list, auc_score_list):\r\n",
    "        print(f\"train loss:{a:.5f},train acc:{b:.5f}, valid loss:{c:.5f}, valid acc:{d:.5f}, auc_score:{e:.5f}\")\r\n",
    "    num += 1"
   ],
   "outputs": [
    {
     "output_type": "stream",
     "name": "stdout",
     "text": [
      "--------------------This is 1th fold.10epochごとの結果を以下に出力--------------------\n",
      "Early Stopping is working in 35th epoch.\n",
      "Best auc score in validation is 0.7380420918367346\n",
      "train loss:0.69197,train acc:0.53858, valid loss:0.68846, valid acc:0.60494, auc_score:0.58099\n",
      "train loss:0.32387,train acc:1.00000, valid loss:0.61292, valid acc:0.68519, auc_score:0.63122\n",
      "train loss:0.31812,train acc:1.00000, valid loss:0.60615, valid acc:0.68519, auc_score:0.68351\n",
      "train loss:0.31694,train acc:1.00000, valid loss:0.60880, valid acc:0.67901, auc_score:0.69372\n",
      "--------------------This is 2th fold.10epochごとの結果を以下に出力--------------------\n",
      "Early Stopping is working in 34th epoch.\n",
      "Best auc score in validation is 0.7648278061224489\n",
      "train loss:0.69845,train acc:0.52932, valid loss:0.69516, valid acc:0.39506, auc_score:0.54273\n",
      "train loss:0.32284,train acc:1.00000, valid loss:0.59669, valid acc:0.67901, auc_score:0.62803\n",
      "train loss:0.31772,train acc:1.00000, valid loss:0.60586, valid acc:0.67901, auc_score:0.69467\n",
      "train loss:0.31691,train acc:1.00000, valid loss:0.60487, valid acc:0.67901, auc_score:0.74585\n",
      "--------------------This is 3th fold.10epochごとの結果を以下に出力--------------------\n",
      "Early Stopping is working in 33th epoch.\n",
      "Best auc score in validation is 0.7810905612244898\n",
      "train loss:0.68744,train acc:0.53704, valid loss:0.68783, valid acc:0.60494, auc_score:0.59949\n",
      "train loss:0.32185,train acc:1.00000, valid loss:0.60690, valid acc:0.67284, auc_score:0.60571\n",
      "train loss:0.31769,train acc:1.00000, valid loss:0.61684, valid acc:0.66667, auc_score:0.70886\n",
      "train loss:0.31670,train acc:1.00000, valid loss:0.60563, valid acc:0.67901, auc_score:0.71891\n",
      "--------------------This is 4th fold.10epochごとの結果を以下に出力--------------------\n",
      "Early Stopping is working in 36th epoch.\n",
      "Best auc score in validation is 0.8385441718775052\n",
      "train loss:0.67832,train acc:0.54938, valid loss:0.68432, valid acc:0.61111, auc_score:0.63476\n",
      "train loss:0.32349,train acc:1.00000, valid loss:0.55943, valid acc:0.73457, auc_score:0.72968\n",
      "train loss:0.31760,train acc:1.00000, valid loss:0.55996, valid acc:0.72222, auc_score:0.77778\n",
      "train loss:0.31667,train acc:1.00000, valid loss:0.55213, valid acc:0.74074, auc_score:0.78804\n",
      "--------------------This is 5th fold.10epochごとの結果を以下に出力--------------------\n",
      "Early Stopping is working in 41th epoch.\n",
      "Best auc score in validation is 0.8029501362834697\n",
      "train loss:0.69144,train acc:0.53241, valid loss:0.68905, valid acc:0.61111, auc_score:0.68719\n",
      "train loss:0.32337,train acc:1.00000, valid loss:0.56584, valid acc:0.73457, auc_score:0.74058\n",
      "train loss:0.31780,train acc:1.00000, valid loss:0.56598, valid acc:0.74074, auc_score:0.76832\n",
      "train loss:0.31707,train acc:1.00000, valid loss:0.56557, valid acc:0.73457, auc_score:0.77633\n",
      "train loss:0.31647,train acc:1.00000, valid loss:0.56512, valid acc:0.72222, auc_score:0.77377\n"
     ]
    }
   ],
   "metadata": {}
  },
  {
   "cell_type": "code",
   "execution_count": 12,
   "source": [
    "model = Net_deeper2().to(device)\r\n",
    "model.eval()\r\n",
    "model.load_state_dict(torch.load(\"model.pth\"))\r\n",
    "prediction_deeper2 = model.forward(test_data_tensor.to(device))\r\n",
    "# print(bn_prediction)\r\n",
    "print(prediction_deeper2[:,1])\r\n",
    "df_submission['sex'] = prediction_deeper2[:, 1].to('cpu').detach().numpy().copy()\r\n",
    "df_submission.to_csv(\"./predicted_label/DNN_deeper2.csv\")"
   ],
   "outputs": [
    {
     "output_type": "stream",
     "name": "stdout",
     "text": [
      "tensor([0.9344, 0.9855, 0.9910, 0.0326, 0.9873, 0.4371, 0.9886, 0.5073, 0.9934,\n",
      "        0.9900, 0.9917, 0.9890, 0.9624, 0.9457, 0.9933, 0.7855, 0.3873, 0.9350,\n",
      "        0.8859, 0.9800, 0.9259, 0.4475, 0.9139, 0.7324, 0.9910, 0.0563, 0.4162,\n",
      "        0.3049, 0.3359, 0.9735, 0.8429, 0.4289, 0.3921, 0.9762, 0.0057, 0.9940,\n",
      "        0.0861, 0.9928, 0.7180, 0.0444, 0.9937, 0.4845, 0.0347, 0.1527, 0.8303,\n",
      "        0.1766, 0.9893, 0.9955, 0.9843, 0.9876, 0.6300, 0.2154, 0.9499, 0.9785,\n",
      "        0.6369, 0.1117, 0.9622, 0.9667, 0.0679, 0.8967, 0.8619, 0.0822, 0.0266,\n",
      "        0.9902, 0.0919, 0.0321, 0.9888, 0.9982, 0.0948, 0.9964, 0.2233, 0.9912,\n",
      "        0.0808, 0.9959, 0.7012, 0.9242, 0.0212, 0.9905, 0.9850, 0.9901, 0.8925],\n",
      "       device='cuda:0', grad_fn=<SelectBackward>)\n"
     ]
    }
   ],
   "metadata": {}
  },
  {
   "cell_type": "code",
   "execution_count": 13,
   "source": [
    "# nkyくんのモデル\r\n",
    "# linear -> batch norm -> relu -> dropout\r\n",
    "num = 0\r\n",
    "n_epoch = 500\r\n",
    "for train_idx, valid_idx in skf.split(train_data, train_label):\r\n",
    "    print(f\"--------------------This is {num + 1}th fold.10epochごとの結果を以下に出力--------------------\")\r\n",
    "    # modelの初期化\r\n",
    "    model = Net_nky().to(device)\r\n",
    "    optimizer = optim.SGD(model.parameters(), lr = 1e-2, momentum = 0.9, weight_decay = 5e-3)\r\n",
    "    best_score = 0\r\n",
    "    # 分割した訓練データと検証データをtensor型に変換\r\n",
    "    trainloader, validloader, valid_data, valid_label = df2tensor(\r\n",
    "        train_data.iloc[train_idx], train_label.iloc[train_idx],\r\n",
    "        train_data.iloc[valid_idx], train_label.iloc[valid_idx], batch_size = 64)\r\n",
    "    # モデルの訓練と評価\r\n",
    "    train_acc_list, train_loss_list, valid_acc_list, valid_loss_list, auc_score_list = train_valid_loop_lossbased(\r\n",
    "        trainloader, validloader, valid_data, valid_label, model, n_epoch, optimizer)\r\n",
    "    auc_score = np.max(auc_score_list)\r\n",
    "    if auc_score > best_score:\r\n",
    "        best_score = auc_score\r\n",
    "        best_model = model.load_state_dict(torch.load(\"model.pth\"))\r\n",
    "    for a,b,c,d,e in zip(\r\n",
    "        train_loss_list, train_acc_list,\r\n",
    "        valid_loss_list, valid_acc_list, auc_score_list):\r\n",
    "        print(f\"train loss:{a:.5f},train acc:{b:.5f}, valid loss:{c:.5f}, valid acc:{d:.5f}, auc_score:{e:.5f}\")\r\n",
    "    num += 1"
   ],
   "outputs": [
    {
     "output_type": "stream",
     "name": "stdout",
     "text": [
      "--------------------This is 1th fold.10epochごとの結果を以下に出力--------------------\n"
     ]
    },
    {
     "output_type": "error",
     "ename": "RuntimeError",
     "evalue": "CUDA error: an illegal memory access was encountered\nCUDA kernel errors might be asynchronously reported at some other API call,so the stacktrace below might be incorrect.\nFor debugging consider passing CUDA_LAUNCH_BLOCKING=1.",
     "traceback": [
      "\u001b[1;31m---------------------------------------------------------------------------\u001b[0m",
      "\u001b[1;31mRuntimeError\u001b[0m                              Traceback (most recent call last)",
      "\u001b[1;32m~\\AppData\\Local\\Temp/ipykernel_30484/2702145766.py\u001b[0m in \u001b[0;36m<module>\u001b[1;34m\u001b[0m\n\u001b[0;32m     15\u001b[0m     \u001b[1;31m# モデルの訓練と評価, earlystoppipngによっていちばんauc_scoreの高かった\u001b[0m\u001b[1;33m\u001b[0m\u001b[1;33m\u001b[0m\u001b[1;33m\u001b[0m\u001b[0m\n\u001b[0;32m     16\u001b[0m     train_acc_list, train_loss_list, valid_acc_list, valid_loss_list, auc_score_list = train_valid_loop_lossbased(\n\u001b[1;32m---> 17\u001b[1;33m         trainloader, validloader, valid_data, valid_label, model, n_epoch, optimizer)\n\u001b[0m\u001b[0;32m     18\u001b[0m     \u001b[0mauc_score\u001b[0m \u001b[1;33m=\u001b[0m \u001b[0mnp\u001b[0m\u001b[1;33m.\u001b[0m\u001b[0mmax\u001b[0m\u001b[1;33m(\u001b[0m\u001b[0mauc_score_list\u001b[0m\u001b[1;33m)\u001b[0m\u001b[1;33m\u001b[0m\u001b[1;33m\u001b[0m\u001b[0m\n\u001b[0;32m     19\u001b[0m     \u001b[1;32mif\u001b[0m \u001b[0mauc_score\u001b[0m \u001b[1;33m>\u001b[0m \u001b[0mbest_score\u001b[0m\u001b[1;33m:\u001b[0m\u001b[1;33m\u001b[0m\u001b[1;33m\u001b[0m\u001b[0m\n",
      "\u001b[1;32mf:\\labcompe\\2021compe_NKI\\train_eval_loop_lossbassed.py\u001b[0m in \u001b[0;36mtrain_valid_loop_lossbased\u001b[1;34m(train_loader, valid_loader, valid_data_tensor, valid_label_tensor, model, n_epoch, optimizer)\u001b[0m\n\u001b[0;32m     51\u001b[0m         \u001b[1;32mwith\u001b[0m \u001b[0mtorch\u001b[0m\u001b[1;33m.\u001b[0m\u001b[0mno_grad\u001b[0m\u001b[1;33m(\u001b[0m\u001b[1;33m)\u001b[0m\u001b[1;33m:\u001b[0m\u001b[1;33m\u001b[0m\u001b[1;33m\u001b[0m\u001b[0m\n\u001b[0;32m     52\u001b[0m             \u001b[1;32mfor\u001b[0m \u001b[0mxv\u001b[0m\u001b[1;33m,\u001b[0m \u001b[0myv\u001b[0m \u001b[1;32min\u001b[0m \u001b[0mvalid_loader\u001b[0m\u001b[1;33m:\u001b[0m\u001b[1;33m\u001b[0m\u001b[1;33m\u001b[0m\u001b[0m\n\u001b[1;32m---> 53\u001b[1;33m                 \u001b[0mxv\u001b[0m \u001b[1;33m=\u001b[0m \u001b[0mxv\u001b[0m\u001b[1;33m.\u001b[0m\u001b[0mto\u001b[0m\u001b[1;33m(\u001b[0m\u001b[0mdevice\u001b[0m\u001b[1;33m)\u001b[0m\u001b[1;33m\u001b[0m\u001b[1;33m\u001b[0m\u001b[0m\n\u001b[0m\u001b[0;32m     54\u001b[0m                 \u001b[0myv\u001b[0m \u001b[1;33m=\u001b[0m \u001b[0myv\u001b[0m\u001b[1;33m.\u001b[0m\u001b[0mto\u001b[0m\u001b[1;33m(\u001b[0m\u001b[0mdevice\u001b[0m\u001b[1;33m)\u001b[0m\u001b[1;33m\u001b[0m\u001b[1;33m\u001b[0m\u001b[0m\n\u001b[0;32m     55\u001b[0m \u001b[1;33m\u001b[0m\u001b[0m\n",
      "\u001b[1;31mRuntimeError\u001b[0m: CUDA error: an illegal memory access was encountered\nCUDA kernel errors might be asynchronously reported at some other API call,so the stacktrace below might be incorrect.\nFor debugging consider passing CUDA_LAUNCH_BLOCKING=1."
     ]
    }
   ],
   "metadata": {}
  },
  {
   "cell_type": "code",
   "execution_count": null,
   "source": [
    "調べてもあまりリファレンスの見つからないエラーで動かない。要再調査"
   ],
   "outputs": [],
   "metadata": {}
  },
  {
   "cell_type": "code",
   "execution_count": null,
   "source": [
    "model = Net_deeper2().to(device)\r\n",
    "model.eval()\r\n",
    "model.load_state_dict(torch.load(\"model.pth\"))\r\n",
    "prediction_nky = model.forward(test_data_tensor.to(device))\r\n",
    "# print(bn_prediction)\r\n",
    "print(prediction_deeper2[:,1])\r\n",
    "df_submission['sex'] = prediction_nky[:, 1].to('cpu').detach().numpy().copy()\r\n",
    "df_submission.to_csv(\"./predicted_label/DNN_nky.csv\")"
   ],
   "outputs": [],
   "metadata": {}
  }
 ],
 "metadata": {
  "orig_nbformat": 4,
  "language_info": {
   "name": "python",
   "version": "3.7.10",
   "mimetype": "text/x-python",
   "codemirror_mode": {
    "name": "ipython",
    "version": 3
   },
   "pygments_lexer": "ipython3",
   "nbconvert_exporter": "python",
   "file_extension": ".py"
  },
  "kernelspec": {
   "name": "python3",
   "display_name": "Python 3.7.10 64-bit ('base': conda)"
  },
  "interpreter": {
   "hash": "c939a731ced144f499ba8faa07b12f85fe28d8c853ba633eb8f0980b6dd55f84"
  }
 },
 "nbformat": 4,
 "nbformat_minor": 2
}