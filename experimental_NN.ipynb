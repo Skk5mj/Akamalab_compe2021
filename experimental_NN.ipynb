{
 "cells": [
  {
   "cell_type": "code",
   "execution_count": 1,
   "source": [
    "%matplotlib inline \r\n",
    "import torch\r\n",
    "from torch import nn, optim\r\n",
    "import torch.nn.functional as F\r\n",
    "from torch.utils import data\r\n",
    "import pandas as pd\r\n",
    "import numpy as np\r\n",
    "import matplotlib.pyplot as plt"
   ],
   "outputs": [],
   "metadata": {}
  },
  {
   "cell_type": "code",
   "execution_count": 2,
   "source": [
    "# データ\r\n",
    "train_data = pd.read_csv(\"./dataset/NKI_RS_train_data.csv\",index_col=0)\r\n",
    "train_label = pd.read_csv(\"./dataset/NKI_RS_train_label.csv\",index_col = 0)\r\n",
    "test_data = pd.read_csv(\"./dataset/NKI_RS_test_data.csv\", index_col = 0)\r\n",
    "train_label = train_label[\"sex\"]"
   ],
   "outputs": [],
   "metadata": {}
  },
  {
   "cell_type": "code",
   "execution_count": 3,
   "source": [
    "from sklearn.model_selection import StratifiedKFold\r\n",
    "skf = StratifiedKFold(n_splits = 5, shuffle=True, random_state = 0)\r\n",
    "device = torch.device(\"cuda\" if torch.cuda.is_available() else \"cpu\")\r\n",
    "# 訓練用の関数\r\n",
    "from train_eval_loop import train_valid_loop\r\n",
    "# データをtensor型にかえる関数\r\n",
    "from datapreparation import df2tensor"
   ],
   "outputs": [],
   "metadata": {}
  },
  {
   "cell_type": "code",
   "execution_count": 4,
   "source": [
    "# modelのimport\r\n",
    "from model_NN_exp import Net_deeper\r\n",
    "# 訓練/検証用関数\r\n",
    "from train_eval_loop_test import train_valid_loop"
   ],
   "outputs": [],
   "metadata": {}
  },
  {
   "cell_type": "code",
   "execution_count": 5,
   "source": [
    "num = 0\r\n",
    "n_epoch = 500\r\n",
    "for train_idx, valid_idx in skf.split(train_data, train_label):\r\n",
    "    print(f\"--------------------This is {num + 1}th fold.10epochごとの結果を以下に出力--------------------\")\r\n",
    "    # modelの初期化\r\n",
    "    model = Net_deeper().to(device)\r\n",
    "    optimizer = optim.SGD(model.parameters(), lr = 1e-2, momentum = 0.9, weight_decay = 5e-3)\r\n",
    "    best_score = 0\r\n",
    "    # 分割した訓練データと検証データをtensor型に変換\r\n",
    "    trainloader, validloader, valid_data, valid_label = df2tensor(\r\n",
    "        train_data.iloc[train_idx], train_label.iloc[train_idx], train_data.iloc[valid_idx], train_label.iloc[valid_idx], batch_size = 64)\r\n",
    "    # モデルの訓練と評価, earlystoppipngによっていちばんauc_scoreの高かった\r\n",
    "    train_acc_list, train_loss_list, valid_acc_list, valid_loss_list, auc_score_list = train_valid_loop(\r\n",
    "        trainloader, validloader, valid_data, valid_label, model, n_epoch, optimizer)\r\n",
    "    auc_score = np.max(auc_score_list)\r\n",
    "    if auc_score > best_score:\r\n",
    "        best_score = auc_score\r\n",
    "        # この辺のfoldごとの最良モデルの読み込みをもう少しうまく、簡潔に書けないか\r\n",
    "        best_model = model.load_state_dict(torch.load(\"model.pth\"))\r\n",
    "    for a,b,c,d,e in zip(\r\n",
    "        train_loss_list, train_acc_list,\r\n",
    "        valid_loss_list, valid_acc_list, auc_score_list):\r\n",
    "        print(f\"train loss:{a:.5f},train acc:{b:.5f}, valid loss:{c:.5f}, valid acc:{d:.5f}, auc_score:{e:.5f}\")\r\n",
    "    num += 1\r\n"
   ],
   "outputs": [
    {
     "output_type": "stream",
     "name": "stdout",
     "text": [
      "This is 1th fold.10epochごとの結果を以下に出力--------------------\n",
      "Early Stopping is working in 12th epoch.\n",
      "best auc score in validation is 0.7393176020408163\n",
      "train loss:0.66342,train acc:0.62346, valid loss:0.69174, valid acc:0.59259, auc_score:0.66486\n",
      "train loss:0.31667,train acc:0.99846, valid loss:0.62980, valid acc:0.66049, auc_score:0.72385\n",
      "This is 2th fold.10epochごとの結果を以下に出力--------------------\n",
      "Early Stopping is working in 13th epoch.\n",
      "best auc score in validation is 0.7523915816326531\n",
      "train loss:0.66587,train acc:0.58025, valid loss:0.69733, valid acc:0.39506, auc_score:0.71301\n",
      "train loss:0.31524,train acc:1.00000, valid loss:0.60815, valid acc:0.67901, auc_score:0.70265\n",
      "This is 3th fold.10epochごとの結果を以下に出力--------------------\n",
      "Early Stopping is working in 19th epoch.\n",
      "best auc score in validation is 0.767059948979592\n",
      "train loss:0.67346,train acc:0.59877, valid loss:0.70292, valid acc:0.39506, auc_score:0.58642\n",
      "train loss:0.31642,train acc:0.99846, valid loss:0.60319, valid acc:0.69136, auc_score:0.62723\n",
      "train loss:0.31450,train acc:1.00000, valid loss:0.60606, valid acc:0.69136, auc_score:0.73166\n",
      "This is 4th fold.10epochごとの結果を以下に出力--------------------\n",
      "Early Stopping is working in 38th epoch.\n",
      "best auc score in validation is 0.8332531665865\n",
      "train loss:0.67170,train acc:0.57870, valid loss:0.70191, valid acc:0.38889, auc_score:0.71108\n",
      "train loss:0.31491,train acc:1.00000, valid loss:0.56016, valid acc:0.74691, auc_score:0.75677\n",
      "train loss:0.31439,train acc:1.00000, valid loss:0.55401, valid acc:0.75926, auc_score:0.80872\n",
      "train loss:0.31431,train acc:1.00000, valid loss:0.55057, valid acc:0.76543, auc_score:0.79926\n",
      "This is 5th fold.10epochごとの結果を以下に出力--------------------\n",
      "Early Stopping is working in 12th epoch.\n",
      "best auc score in validation is 0.7673561006894339\n",
      "train loss:0.67653,train acc:0.58333, valid loss:0.69284, valid acc:0.48765, auc_score:0.70451\n",
      "train loss:0.31508,train acc:1.00000, valid loss:0.57806, valid acc:0.70370, auc_score:0.74603\n"
     ]
    }
   ],
   "metadata": {}
  },
  {
   "cell_type": "code",
   "execution_count": 8,
   "source": [
    "print(best_model)"
   ],
   "outputs": [
    {
     "output_type": "stream",
     "name": "stdout",
     "text": [
      "<All keys matched successfully>\n"
     ]
    }
   ],
   "metadata": {}
  },
  {
   "cell_type": "code",
   "execution_count": 11,
   "source": [
    "model = Net_deeper().to(device)\r\n",
    "model.load_state_dict(torch.load(\"model.pth\"))\r\n",
    "test_data_tensor = torch.tensor(np.array(test_data.astype('f')))\r\n",
    "test_prediction = model.forward(test_data_tensor.to(device))\r\n",
    "# print(bn_prediction)\r\n",
    "print(test_prediction[:,1])"
   ],
   "outputs": [
    {
     "output_type": "stream",
     "name": "stdout",
     "text": [
      "tensor([2.0049e-02, 9.4324e-01, 9.8817e-01, 4.7000e-03, 9.3661e-01, 4.0241e-01,\n",
      "        9.4947e-01, 3.6128e-01, 9.9902e-01, 9.8239e-01, 9.9768e-01, 9.9173e-01,\n",
      "        9.8982e-01, 9.7014e-01, 4.9089e-01, 5.2840e-01, 8.7702e-01, 8.2606e-01,\n",
      "        3.5409e-01, 9.8627e-01, 9.7744e-01, 7.5345e-03, 2.0753e-02, 2.8691e-01,\n",
      "        7.5752e-01, 2.3509e-03, 8.8028e-01, 2.6827e-01, 3.6327e-02, 8.5916e-01,\n",
      "        1.0939e-01, 1.8605e-01, 3.4798e-02, 5.0400e-01, 1.7239e-07, 6.5795e-01,\n",
      "        4.6317e-02, 9.9331e-01, 8.3681e-01, 5.5799e-04, 9.9862e-01, 1.4616e-01,\n",
      "        2.4258e-01, 2.6921e-01, 9.4909e-01, 2.6443e-04, 9.9768e-01, 9.9667e-01,\n",
      "        9.9571e-01, 9.9835e-01, 6.3754e-01, 4.6275e-02, 5.2967e-01, 5.8342e-01,\n",
      "        9.2873e-01, 1.9283e-03, 9.5859e-01, 9.7542e-01, 3.0201e-03, 9.6249e-01,\n",
      "        2.1290e-01, 2.4673e-02, 2.4967e-05, 3.5775e-01, 1.0610e-01, 5.0361e-03,\n",
      "        9.8631e-01, 9.9906e-01, 5.1176e-02, 9.9863e-01, 1.0989e-02, 9.2207e-01,\n",
      "        2.0827e-01, 9.8395e-01, 7.6182e-01, 8.5522e-01, 3.8971e-02, 9.9437e-01,\n",
      "        9.6706e-01, 9.9249e-01, 4.8459e-01], device='cuda:0',\n",
      "       grad_fn=<SelectBackward>)\n"
     ]
    }
   ],
   "metadata": {}
  },
  {
   "cell_type": "code",
   "execution_count": 14,
   "source": [
    "df_submission = pd.read_csv(\"./dataset/sample_submission.csv\",header = 0)\r\n",
    "df_submission['sex'] = test_prediction[:, 1].to('cpu').detach().numpy().copy()\r\n",
    "df_submission"
   ],
   "outputs": [
    {
     "output_type": "execute_result",
     "data": {
      "text/html": [
       "<div>\n",
       "<style scoped>\n",
       "    .dataframe tbody tr th:only-of-type {\n",
       "        vertical-align: middle;\n",
       "    }\n",
       "\n",
       "    .dataframe tbody tr th {\n",
       "        vertical-align: top;\n",
       "    }\n",
       "\n",
       "    .dataframe thead th {\n",
       "        text-align: right;\n",
       "    }\n",
       "</style>\n",
       "<table border=\"1\" class=\"dataframe\">\n",
       "  <thead>\n",
       "    <tr style=\"text-align: right;\">\n",
       "      <th></th>\n",
       "      <th>subject_id</th>\n",
       "      <th>sex</th>\n",
       "    </tr>\n",
       "  </thead>\n",
       "  <tbody>\n",
       "    <tr>\n",
       "      <th>0</th>\n",
       "      <td>A00062361</td>\n",
       "      <td>0.020049</td>\n",
       "    </tr>\n",
       "    <tr>\n",
       "      <th>1</th>\n",
       "      <td>A00039143</td>\n",
       "      <td>0.943235</td>\n",
       "    </tr>\n",
       "    <tr>\n",
       "      <th>2</th>\n",
       "      <td>A00031605</td>\n",
       "      <td>0.988168</td>\n",
       "    </tr>\n",
       "    <tr>\n",
       "      <th>3</th>\n",
       "      <td>A00037848</td>\n",
       "      <td>0.004700</td>\n",
       "    </tr>\n",
       "    <tr>\n",
       "      <th>4</th>\n",
       "      <td>A00060264</td>\n",
       "      <td>0.936609</td>\n",
       "    </tr>\n",
       "    <tr>\n",
       "      <th>...</th>\n",
       "      <td>...</td>\n",
       "      <td>...</td>\n",
       "    </tr>\n",
       "    <tr>\n",
       "      <th>76</th>\n",
       "      <td>A00039075</td>\n",
       "      <td>0.038971</td>\n",
       "    </tr>\n",
       "    <tr>\n",
       "      <th>77</th>\n",
       "      <td>A00037768</td>\n",
       "      <td>0.994371</td>\n",
       "    </tr>\n",
       "    <tr>\n",
       "      <th>78</th>\n",
       "      <td>A00058621</td>\n",
       "      <td>0.967057</td>\n",
       "    </tr>\n",
       "    <tr>\n",
       "      <th>79</th>\n",
       "      <td>A00033903</td>\n",
       "      <td>0.992486</td>\n",
       "    </tr>\n",
       "    <tr>\n",
       "      <th>80</th>\n",
       "      <td>A00073600</td>\n",
       "      <td>0.484590</td>\n",
       "    </tr>\n",
       "  </tbody>\n",
       "</table>\n",
       "<p>81 rows × 2 columns</p>\n",
       "</div>"
      ],
      "text/plain": [
       "   subject_id       sex\n",
       "0   A00062361  0.020049\n",
       "1   A00039143  0.943235\n",
       "2   A00031605  0.988168\n",
       "3   A00037848  0.004700\n",
       "4   A00060264  0.936609\n",
       "..        ...       ...\n",
       "76  A00039075  0.038971\n",
       "77  A00037768  0.994371\n",
       "78  A00058621  0.967057\n",
       "79  A00033903  0.992486\n",
       "80  A00073600  0.484590\n",
       "\n",
       "[81 rows x 2 columns]"
      ]
     },
     "metadata": {},
     "execution_count": 14
    }
   ],
   "metadata": {}
  },
  {
   "cell_type": "code",
   "execution_count": 16,
   "source": [
    "df_submission.to_csv(\"./submission_1st/DNN_test.csv\")"
   ],
   "outputs": [],
   "metadata": {}
  },
  {
   "cell_type": "code",
   "execution_count": null,
   "source": [],
   "outputs": [],
   "metadata": {}
  }
 ],
 "metadata": {
  "orig_nbformat": 4,
  "language_info": {
   "name": "python",
   "version": "3.7.10",
   "mimetype": "text/x-python",
   "codemirror_mode": {
    "name": "ipython",
    "version": 3
   },
   "pygments_lexer": "ipython3",
   "nbconvert_exporter": "python",
   "file_extension": ".py"
  },
  "kernelspec": {
   "name": "python3",
   "display_name": "Python 3.7.10 64-bit ('base': conda)"
  },
  "interpreter": {
   "hash": "c939a731ced144f499ba8faa07b12f85fe28d8c853ba633eb8f0980b6dd55f84"
  }
 },
 "nbformat": 4,
 "nbformat_minor": 2
}