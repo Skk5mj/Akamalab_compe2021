{
 "cells": [
  {
   "cell_type": "code",
   "execution_count": 1,
   "source": [
    "%matplotlib inline \r\n",
    "import torch\r\n",
    "from torch import nn, optim\r\n",
    "import torch.nn.functional as F\r\n",
    "from torch.utils import data\r\n",
    "import pandas as pd\r\n",
    "import numpy as np\r\n",
    "import matplotlib.pyplot as plt"
   ],
   "outputs": [],
   "metadata": {}
  },
  {
   "cell_type": "code",
   "execution_count": 2,
   "source": [
    "# データ\r\n",
    "train_data = pd.read_csv(\"NKI_RS_train_data.csv\",index_col=0)\r\n",
    "train_label = pd.read_csv(\"NKI_RS_train_label.csv\",index_col = 0)\r\n",
    "test_data = pd.read_csv(\"NKI_RS_test_data.csv\", index_col = 1)\r\n",
    "train_label = train_label[\"sex\"]"
   ],
   "outputs": [],
   "metadata": {}
  },
  {
   "cell_type": "code",
   "execution_count": 3,
   "source": [
    "from sklearn.model_selection import StratifiedKFold\r\n",
    "skf = StratifiedKFold(n_splits = 5, shuffle=True, random_state = 0)\r\n",
    "device = torch.device(\"cuda\" if torch.cuda.is_available() else \"cpu\")\r\n",
    "# 訓練用の関数\r\n",
    "from train_eval_loop import train_valid_loop\r\n",
    "# データをtensor型にかえる関数\r\n",
    "from datapreparation import df2tensor"
   ],
   "outputs": [],
   "metadata": {}
  },
  {
   "cell_type": "code",
   "execution_count": 4,
   "source": [
    "# modelのimport\r\n",
    "from model import Net_simple, Net_dp, Net_bn"
   ],
   "outputs": [],
   "metadata": {}
  },
  {
   "cell_type": "code",
   "execution_count": 6,
   "source": [
    "from train_eval_loop_test import train_valid_loop\r\n",
    "num = 0\r\n",
    "n_epoch = 100\r\n",
    "learning_rate = 1e-3\r\n",
    "for train_idx, valid_idx in skf.split(train_data, train_label):\r\n",
    "    print(f\"This is {num + 1}th fold.100epochごとの結果を以下に出力--------------------\")\r\n",
    "    model = Net_simple().to(device)\r\n",
    "    optimizer = optim.SGD(model.parameters(), lr = 1e-2, momentum = 0.9, weight_decay = 5e-3)\r\n",
    "    best_score = 0\r\n",
    "    trainloader, validloader, valid_data, valid_label = df2tensor(\r\n",
    "        train_data.iloc[train_idx], train_label.iloc[train_idx], train_data.iloc[valid_idx], train_label.iloc[valid_idx], batch_size = 64)\r\n",
    "    train_acc_list, train_loss_list, valid_acc_list, valid_loss_list, auc_score_list = train_valid_loop(\r\n",
    "        trainloader, validloader, valid_data, valid_label, model, n_epoch, optimizer)\r\n",
    "    auc_score = auc_score_list[-1]\r\n",
    "    if auc_score > best_score:\r\n",
    "        best_score = auc_score\r\n",
    "        best_model = model\r\n",
    "    \r\n",
    "    for a,b,c,d,e in zip(\r\n",
    "        train_loss_list, train_acc_list, valid_loss_list, valid_acc_list, auc_score_list):\r\n",
    "        print(f\"train loss:{a:.5f},train acc:{b:.5f}, valid loss:{c:.5f}, valid acc:{d:.5f}, auc_score:{e:.5f}\")\r\n",
    "    num += 1"
   ],
   "outputs": [
    {
     "output_type": "stream",
     "name": "stdout",
     "text": [
      "This is 1th fold.100epochごとの結果を以下に出力--------------------\n",
      "train loss:0.69096,train acc:0.60802, valid loss:0.68900, valid acc:0.60494, auc_score:0.50000\n",
      "train loss:0.66949,train acc:0.60802, valid loss:0.67087, valid acc:0.60494, auc_score:0.50000\n",
      "This is 2th fold.100epochごとの結果を以下に出力--------------------\n",
      "train loss:0.71019,train acc:0.39198, valid loss:0.70595, valid acc:0.39506, auc_score:0.50000\n",
      "train loss:0.66953,train acc:0.60802, valid loss:0.67092, valid acc:0.60494, auc_score:0.50000\n",
      "This is 3th fold.100epochごとの結果を以下に出力--------------------\n",
      "train loss:0.68386,train acc:0.60802, valid loss:0.68292, valid acc:0.60494, auc_score:0.50000\n",
      "train loss:0.66962,train acc:0.60802, valid loss:0.67093, valid acc:0.60494, auc_score:0.50000\n",
      "This is 4th fold.100epochごとの結果を以下に出力--------------------\n",
      "train loss:0.68571,train acc:0.60648, valid loss:0.68376, valid acc:0.61111, auc_score:0.50000\n",
      "train loss:0.67032,train acc:0.60648, valid loss:0.66821, valid acc:0.61111, auc_score:0.50000\n",
      "This is 5th fold.100epochごとの結果を以下に出力--------------------\n",
      "train loss:0.69318,train acc:0.47531, valid loss:0.69096, valid acc:0.61111, auc_score:0.50000\n",
      "train loss:0.67029,train acc:0.60648, valid loss:0.66835, valid acc:0.61111, auc_score:0.50000\n"
     ]
    }
   ],
   "metadata": {}
  },
  {
   "cell_type": "code",
   "execution_count": 7,
   "source": [
    "# dropoutを入れたネットワーク\r\n",
    "num = 0\r\n",
    "n_epoch = 500\r\n",
    "for train_idx, valid_idx in skf.split(train_data, train_label):\r\n",
    "    print(f\"This is {num + 1}th fold.100epochごとの結果を以下に出力--------------------\")\r\n",
    "    model = Net_dp().to(device)\r\n",
    "    optimizer = optim.SGD(model.parameters(), lr = 1e-2, momentum = 0.9, weight_decay = 5e-3)\r\n",
    "    best_score = 0\r\n",
    "    trainloader, validloader, valid_data, valid_label = df2tensor(\r\n",
    "        train_data.iloc[train_idx], train_label.iloc[train_idx], train_data.iloc[valid_idx], train_label.iloc[valid_idx], batch_size = 64)\r\n",
    "    train_acc_list, train_loss_list, valid_acc_list, valid_loss_list, auc_score_list = train_valid_loop(\r\n",
    "        trainloader, validloader, valid_data, valid_label, model, n_epoch, optimizer)\r\n",
    "    auc_score = auc_score_list[-1]\r\n",
    "    if auc_score > best_score:\r\n",
    "        best_score = auc_score\r\n",
    "        best_model = model\r\n",
    "    \r\n",
    "    for a,b,c,d,e in zip(\r\n",
    "        train_loss_list, train_acc_list,\r\n",
    "        valid_loss_list, valid_acc_list, auc_score_list):\r\n",
    "        print(f\"train loss:{a:.5f},train acc:{b:.5f}, valid loss:{c:.5f}, valid acc:{d:.5f}, auc_score:{e:.5f}\")\r\n",
    "    num += 1"
   ],
   "outputs": [
    {
     "output_type": "stream",
     "name": "stdout",
     "text": [
      "This is 1th fold.100epochごとの結果を以下に出力--------------------\n",
      "train loss:0.69564,train acc:0.40432, valid loss:0.69287, valid acc:0.60494, auc_score:0.50000\n",
      "train loss:0.66950,train acc:0.60802, valid loss:0.67092, valid acc:0.60494, auc_score:0.50000\n",
      "train loss:0.66979,train acc:0.60802, valid loss:0.67096, valid acc:0.60494, auc_score:0.50000\n",
      "train loss:0.66950,train acc:0.60802, valid loss:0.67096, valid acc:0.60494, auc_score:0.50000\n",
      "train loss:0.66969,train acc:0.60802, valid loss:0.67096, valid acc:0.60494, auc_score:0.50000\n",
      "train loss:0.66977,train acc:0.60802, valid loss:0.67096, valid acc:0.60494, auc_score:0.50000\n",
      "This is 2th fold.100epochごとの結果を以下に出力--------------------\n",
      "train loss:0.68892,train acc:0.60802, valid loss:0.68750, valid acc:0.60494, auc_score:0.50000\n",
      "train loss:0.66969,train acc:0.60802, valid loss:0.67095, valid acc:0.60494, auc_score:0.50000\n",
      "train loss:0.66943,train acc:0.60802, valid loss:0.67096, valid acc:0.60494, auc_score:0.50000\n",
      "train loss:0.66966,train acc:0.60802, valid loss:0.67096, valid acc:0.60494, auc_score:0.50000\n",
      "train loss:0.66973,train acc:0.60802, valid loss:0.67096, valid acc:0.60494, auc_score:0.50000\n",
      "train loss:0.66969,train acc:0.60802, valid loss:0.67096, valid acc:0.60494, auc_score:0.50000\n",
      "This is 3th fold.100epochごとの結果を以下に出力--------------------\n",
      "train loss:0.68381,train acc:0.60802, valid loss:0.68300, valid acc:0.60494, auc_score:0.50000\n",
      "train loss:0.66973,train acc:0.60802, valid loss:0.67096, valid acc:0.60494, auc_score:0.50000\n",
      "train loss:0.66965,train acc:0.60802, valid loss:0.67096, valid acc:0.60494, auc_score:0.50000\n",
      "train loss:0.66965,train acc:0.60802, valid loss:0.67096, valid acc:0.60494, auc_score:0.50000\n",
      "train loss:0.66966,train acc:0.60802, valid loss:0.67096, valid acc:0.60494, auc_score:0.50000\n",
      "train loss:0.66967,train acc:0.60802, valid loss:0.67096, valid acc:0.60494, auc_score:0.50000\n",
      "This is 4th fold.100epochごとの結果を以下に出力--------------------\n"
     ]
    },
    {
     "output_type": "error",
     "ename": "KeyboardInterrupt",
     "evalue": "",
     "traceback": [
      "\u001b[1;31m---------------------------------------------------------------------------\u001b[0m",
      "\u001b[1;31mKeyboardInterrupt\u001b[0m                         Traceback (most recent call last)",
      "\u001b[1;32m<ipython-input-7-0fd3a83b3ae1>\u001b[0m in \u001b[0;36m<module>\u001b[1;34m\u001b[0m\n\u001b[0;32m     10\u001b[0m         train_data.iloc[train_idx], train_label.iloc[train_idx], train_data.iloc[valid_idx], train_label.iloc[valid_idx], batch_size = 64)\n\u001b[0;32m     11\u001b[0m     train_acc_list, train_loss_list, valid_acc_list, valid_loss_list, auc_score_list = train_valid_loop(\n\u001b[1;32m---> 12\u001b[1;33m         trainloader, validloader, valid_data, valid_label, model, n_epoch, optimizer)\n\u001b[0m\u001b[0;32m     13\u001b[0m     \u001b[0mauc_score\u001b[0m \u001b[1;33m=\u001b[0m \u001b[0mauc_score_list\u001b[0m\u001b[1;33m[\u001b[0m\u001b[1;33m-\u001b[0m\u001b[1;36m1\u001b[0m\u001b[1;33m]\u001b[0m\u001b[1;33m\u001b[0m\u001b[1;33m\u001b[0m\u001b[0m\n\u001b[0;32m     14\u001b[0m     \u001b[1;32mif\u001b[0m \u001b[0mauc_score\u001b[0m \u001b[1;33m>\u001b[0m \u001b[0mbest_score\u001b[0m\u001b[1;33m:\u001b[0m\u001b[1;33m\u001b[0m\u001b[1;33m\u001b[0m\u001b[0m\n",
      "\u001b[1;32mf:\\labcompe\\2021compe_NKI\\train_eval_loop_test.py\u001b[0m in \u001b[0;36mtrain_valid_loop\u001b[1;34m(train_loader, valid_loader, valid_data_tensor, valid_label_tensor, model, n_epoch, optimizer)\u001b[0m\n\u001b[0;32m     32\u001b[0m \u001b[1;33m\u001b[0m\u001b[0m\n\u001b[0;32m     33\u001b[0m             \u001b[0my_pred\u001b[0m \u001b[1;33m=\u001b[0m \u001b[0mmodel\u001b[0m\u001b[1;33m.\u001b[0m\u001b[0mforward\u001b[0m\u001b[1;33m(\u001b[0m\u001b[0mxt\u001b[0m\u001b[1;33m)\u001b[0m\u001b[1;33m\u001b[0m\u001b[1;33m\u001b[0m\u001b[0m\n\u001b[1;32m---> 34\u001b[1;33m             \u001b[0mloss\u001b[0m \u001b[1;33m=\u001b[0m \u001b[0mloss_fn\u001b[0m\u001b[1;33m(\u001b[0m\u001b[0my_pred\u001b[0m\u001b[1;33m,\u001b[0m \u001b[0myt\u001b[0m\u001b[1;33m)\u001b[0m\u001b[1;33m\u001b[0m\u001b[1;33m\u001b[0m\u001b[0m\n\u001b[0m\u001b[0;32m     35\u001b[0m \u001b[1;33m\u001b[0m\u001b[0m\n\u001b[0;32m     36\u001b[0m             \u001b[0mtrain_loss\u001b[0m \u001b[1;33m+=\u001b[0m \u001b[0mloss\u001b[0m\u001b[1;33m.\u001b[0m\u001b[0mitem\u001b[0m\u001b[1;33m(\u001b[0m\u001b[1;33m)\u001b[0m \u001b[1;33m*\u001b[0m \u001b[0mxt\u001b[0m\u001b[1;33m.\u001b[0m\u001b[0msize\u001b[0m\u001b[1;33m(\u001b[0m\u001b[1;36m0\u001b[0m\u001b[1;33m)\u001b[0m\u001b[1;33m\u001b[0m\u001b[1;33m\u001b[0m\u001b[0m\n",
      "\u001b[1;31mKeyboardInterrupt\u001b[0m: "
     ]
    }
   ],
   "metadata": {}
  },
  {
   "cell_type": "code",
   "execution_count": 8,
   "source": [
    "# batch normalizationをいれたネットワーク\r\n",
    "num = 0\r\n",
    "n_epoch = 500\r\n",
    "for train_idx, valid_idx in skf.split(train_data, train_label):\r\n",
    "    print(f\"This is {num + 1}th fold.100epochごとの結果を以下に出力--------------------\")\r\n",
    "    model = Net_bn().to(device)\r\n",
    "    optimizer = optim.SGD(model.parameters(), lr = 1e-2, momentum = 0.9, weight_decay = 5e-3)\r\n",
    "    best_score = 0\r\n",
    "    trainloader, validloader, valid_data, valid_label = df2tensor(\r\n",
    "        train_data.iloc[train_idx], train_label.iloc[train_idx], train_data.iloc[valid_idx], train_label.iloc[valid_idx], batch_size = 64)\r\n",
    "    train_acc_list, train_loss_list, valid_acc_list, valid_loss_list, auc_score_list = train_valid_loop(\r\n",
    "        trainloader, validloader, valid_data, valid_label, model, n_epoch, optimizer)\r\n",
    "    auc_score = auc_score_list[-1]\r\n",
    "    if auc_score > best_score:\r\n",
    "        best_score = auc_score\r\n",
    "        best_model = model\r\n",
    "    \r\n",
    "    for a,b,c,d,e in zip(\r\n",
    "        train_loss_list, train_acc_list,\r\n",
    "        valid_loss_list, valid_acc_list, auc_score_list):\r\n",
    "        print(f\"train loss:{a:.5f},train acc:{b:.5f}, valid loss:{c:.5f}, valid acc:{d:.5f}, auc_score:{e:.5f}\")\r\n",
    "    num += 1"
   ],
   "outputs": [
    {
     "output_type": "stream",
     "name": "stdout",
     "text": [
      "This is 1th fold.100epochごとの結果を以下に出力--------------------\n",
      "train loss:0.66389,train acc:0.61265, valid loss:0.67359, valid acc:0.60494, auc_score:0.50000\n",
      "train loss:0.31616,train acc:1.00000, valid loss:0.61620, valid acc:0.67284, auc_score:0.51562\n",
      "train loss:0.31683,train acc:1.00000, valid loss:0.62652, valid acc:0.66667, auc_score:0.61097\n",
      "train loss:0.31718,train acc:1.00000, valid loss:0.62825, valid acc:0.66667, auc_score:0.64764\n",
      "train loss:0.39080,train acc:0.92284, valid loss:0.64061, valid acc:0.66049, auc_score:0.61607\n",
      "train loss:0.32940,train acc:0.98765, valid loss:0.57443, valid acc:0.74074, auc_score:0.64461\n",
      "This is 2th fold.100epochごとの結果を以下に出力--------------------\n",
      "train loss:0.66315,train acc:0.61111, valid loss:0.68233, valid acc:0.60494, auc_score:0.50000\n",
      "train loss:0.31653,train acc:1.00000, valid loss:0.60276, valid acc:0.65432, auc_score:0.61543\n",
      "train loss:0.31712,train acc:1.00000, valid loss:0.60121, valid acc:0.66667, auc_score:0.70504\n",
      "train loss:0.31717,train acc:1.00000, valid loss:0.60754, valid acc:0.66667, auc_score:0.61193\n",
      "train loss:0.33257,train acc:0.98457, valid loss:0.61154, valid acc:0.67901, auc_score:0.63297\n",
      "train loss:0.33874,train acc:0.97840, valid loss:0.60356, valid acc:0.71605, auc_score:0.63297\n",
      "This is 3th fold.100epochごとの結果を以下に出力--------------------\n",
      "train loss:0.66219,train acc:0.60802, valid loss:0.68887, valid acc:0.64198, auc_score:0.65529\n",
      "train loss:0.31613,train acc:1.00000, valid loss:0.55513, valid acc:0.77160, auc_score:0.71142\n",
      "train loss:0.31704,train acc:1.00000, valid loss:0.55432, valid acc:0.75309, auc_score:0.66629\n",
      "train loss:0.31698,train acc:1.00000, valid loss:0.55796, valid acc:0.75926, auc_score:0.75016\n",
      "train loss:0.32332,train acc:0.99383, valid loss:0.57016, valid acc:0.72840, auc_score:0.73119\n",
      "train loss:0.32474,train acc:0.99228, valid loss:0.57328, valid acc:0.72840, auc_score:0.69723\n",
      "This is 4th fold.100epochごとの結果を以下に出力--------------------\n",
      "train loss:0.68072,train acc:0.56481, valid loss:0.69244, valid acc:0.53704, auc_score:0.61833\n",
      "train loss:0.31620,train acc:1.00000, valid loss:0.54890, valid acc:0.73457, auc_score:0.74026\n",
      "train loss:0.31665,train acc:1.00000, valid loss:0.51940, valid acc:0.77778, auc_score:0.70635\n",
      "train loss:0.31703,train acc:1.00000, valid loss:0.51622, valid acc:0.78395, auc_score:0.74531\n",
      "train loss:0.34617,train acc:0.97068, valid loss:0.55065, valid acc:0.74691, auc_score:0.69481\n",
      "train loss:0.33093,train acc:0.98611, valid loss:0.53350, valid acc:0.76543, auc_score:0.69192\n",
      "This is 5th fold.100epochごとの結果を以下に出力--------------------\n",
      "train loss:0.67231,train acc:0.57099, valid loss:0.68346, valid acc:0.61111, auc_score:0.50000\n",
      "train loss:0.31611,train acc:1.00000, valid loss:0.57282, valid acc:0.72840, auc_score:0.64935\n",
      "train loss:0.31695,train acc:1.00000, valid loss:0.56849, valid acc:0.72222, auc_score:0.64574\n",
      "train loss:0.31711,train acc:1.00000, valid loss:0.57031, valid acc:0.72840, auc_score:0.70707\n",
      "train loss:0.33306,train acc:0.98457, valid loss:0.56264, valid acc:0.73457, auc_score:0.67388\n",
      "train loss:0.32584,train acc:0.99228, valid loss:0.56666, valid acc:0.74691, auc_score:0.69553\n"
     ]
    }
   ],
   "metadata": {}
  }
 ],
 "metadata": {
  "orig_nbformat": 4,
  "language_info": {
   "name": "python",
   "version": "3.7.10",
   "mimetype": "text/x-python",
   "codemirror_mode": {
    "name": "ipython",
    "version": 3
   },
   "pygments_lexer": "ipython3",
   "nbconvert_exporter": "python",
   "file_extension": ".py"
  },
  "kernelspec": {
   "name": "python3",
   "display_name": "Python 3.7.10 64-bit ('base': conda)"
  },
  "interpreter": {
   "hash": "c939a731ced144f499ba8faa07b12f85fe28d8c853ba633eb8f0980b6dd55f84"
  }
 },
 "nbformat": 4,
 "nbformat_minor": 2
}