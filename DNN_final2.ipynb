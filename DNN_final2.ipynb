{
 "cells": [
  {
   "cell_type": "code",
   "execution_count": 2,
   "source": [
    "%matplotlib inline\r\n",
    "import torch\r\n",
    "from torch import nn, optim\r\n",
    "import torch.nn.functional as F\r\n",
    "from torch.utils import data\r\n",
    "import pandas as pd\r\n",
    "import numpy as np\r\n",
    "import matplotlib.pyplot as plt"
   ],
   "outputs": [],
   "metadata": {}
  },
  {
   "cell_type": "code",
   "execution_count": 3,
   "source": [
    "# データ\r\n",
    "train_data = pd.read_csv(\"./dataset/NKI_RS_train_data.csv\",index_col=0)\r\n",
    "train_label = pd.read_csv(\"./dataset/NKI_RS_train_label.csv\",index_col = 0)\r\n",
    "test_data = pd.read_csv(\"./dataset/NKI_RS_test_data.csv\", index_col = 0)\r\n",
    "train_label = train_label[\"sex\"]"
   ],
   "outputs": [],
   "metadata": {}
  },
  {
   "cell_type": "code",
   "execution_count": 5,
   "source": [
    "from sklearn.model_selection import StratifiedKFold\r\n",
    "skf = StratifiedKFold(n_splits = 5, shuffle=True, random_state = 0)\r\n",
    "device = torch.device(\"cuda\" if torch.cuda.is_available() else \"cpu\")\r\n",
    "# # 訓練用の関数\r\n",
    "# from train_eval_loop import train_valid_loop\r\n",
    "# データをtensor型にかえる関数\r\n",
    "from datapreparation import df2tensor"
   ],
   "outputs": [],
   "metadata": {}
  },
  {
   "cell_type": "code",
   "execution_count": 6,
   "source": [
    "# modelのimport\r\n",
    "from models_NN import Net_deeper_elu, Net_deeper_elu2, Net_deeper_mish\r\n",
    "# rvsd2...ReLUをELUに変更\r\n",
    "# deeper_mish... Net_deeperのReLUをELUに変更\r\n",
    "\r\n",
    "# 訓練/検証用関数,train loss基準でEarly stop\r\n",
    "from train_eval_loop_lossbassed import train_valid_loop_lossbased"
   ],
   "outputs": [],
   "metadata": {}
  },
  {
   "cell_type": "code",
   "execution_count": 7,
   "source": [
    "# nky君のモデル\r\n",
    "num = 0\r\n",
    "n_epoch = 500\r\n",
    "for train_idx, valid_idx in skf.split(train_data, train_label):\r\n",
    "    print(f\"--------------------This is {num + 1}th fold.10epochごとの結果を以下に出力--------------------\")\r\n",
    "    # modelの初期化\r\n",
    "    model = Net_deeper_elu().to(device)\r\n",
    "    optimizer = optim.SGD(model.parameters(), lr = 1e-2, momentum = 0.9, weight_decay = 5e-3)\r\n",
    "    best_score = 0\r\n",
    "    # 分割した訓練データと検証データをtensor型に変換\r\n",
    "    trainloader, validloader, valid_data, valid_label = df2tensor(\r\n",
    "        train_data.iloc[train_idx], train_label.iloc[train_idx],\r\n",
    "        train_data.iloc[valid_idx], train_label.iloc[valid_idx], batch_size = 64)\r\n",
    "    # モデルの訓練と評価, earlystoppipngによっていちばんauc_scoreの高かった\r\n",
    "    train_acc_list, train_loss_list, valid_acc_list, valid_loss_list, auc_score_list = train_valid_loop_lossbased(\r\n",
    "        trainloader, validloader, valid_data, valid_label, model, n_epoch, optimizer)\r\n",
    "    auc_score = np.max(auc_score_list)\r\n",
    "    if auc_score > best_score:\r\n",
    "        best_score = auc_score\r\n",
    "        # この辺のfoldごとの最良モデルの読み込みをもう少しうまく、簡潔に書けないか\r\n",
    "        best_model = model.load_state_dict(torch.load(\"model.pth\"))\r\n",
    "    for a,b,c,d,e in zip(\r\n",
    "        train_loss_list, train_acc_list,\r\n",
    "        valid_loss_list, valid_acc_list, auc_score_list):\r\n",
    "        print(f\"train loss:{a:.5f},train acc:{b:.5f}, valid loss:{c:.5f}, valid acc:{d:.5f}, auc_score:{e:.5f}\")\r\n",
    "    num += 1"
   ],
   "outputs": [
    {
     "output_type": "stream",
     "name": "stdout",
     "text": [
      "--------------------This is 1th fold.10epochごとの結果を以下に出力--------------------\n",
      "Early Stopping is working in 48th epoch.\n",
      "Best auc score in validation is 0.7606823979591836\n",
      "train loss:0.64525,train acc:0.63272, valid loss:0.67704, valid acc:0.61111, auc_score:0.71524\n",
      "train loss:0.32740,train acc:0.98765, valid loss:0.61043, valid acc:0.67284, auc_score:0.70727\n",
      "train loss:0.32355,train acc:0.99074, valid loss:0.61423, valid acc:0.67284, auc_score:0.76068\n",
      "train loss:0.32194,train acc:0.99228, valid loss:0.61715, valid acc:0.67284, auc_score:0.70823\n",
      "train loss:0.32041,train acc:0.99383, valid loss:0.62393, valid acc:0.64815, auc_score:0.75781\n",
      "--------------------This is 2th fold.10epochごとの結果を以下に出力--------------------\n",
      "Early Stopping is working in 62th epoch.\n",
      "Best auc score in validation is 0.8279655612244897\n",
      "train loss:0.64359,train acc:0.61111, valid loss:0.67433, valid acc:0.63580, auc_score:0.71237\n",
      "train loss:0.32124,train acc:0.99383, valid loss:0.57091, valid acc:0.72840, auc_score:0.79257\n",
      "train loss:0.32052,train acc:0.99383, valid loss:0.56583, valid acc:0.72222, auc_score:0.82797\n",
      "train loss:0.32038,train acc:0.99383, valid loss:0.56220, valid acc:0.73457, auc_score:0.80899\n",
      "train loss:0.31895,train acc:0.99537, valid loss:0.56509, valid acc:0.73457, auc_score:0.81266\n",
      "train loss:0.31764,train acc:0.99691, valid loss:0.57051, valid acc:0.72222, auc_score:0.81936\n",
      "train loss:0.31748,train acc:0.99691, valid loss:0.56795, valid acc:0.72840, auc_score:0.81122\n",
      "--------------------This is 3th fold.10epochごとの結果を以下に出力--------------------\n",
      "Early Stopping is working in 69th epoch.\n",
      "Best auc score in validation is 0.8126594387755103\n",
      "train loss:0.64007,train acc:0.63117, valid loss:0.67024, valid acc:0.61111, auc_score:0.72290\n",
      "train loss:0.32420,train acc:0.99074, valid loss:0.56103, valid acc:0.72840, auc_score:0.80118\n",
      "train loss:0.32049,train acc:0.99383, valid loss:0.55816, valid acc:0.74074, auc_score:0.77854\n",
      "train loss:0.32039,train acc:0.99383, valid loss:0.55702, valid acc:0.74691, auc_score:0.80453\n",
      "train loss:0.32036,train acc:0.99383, valid loss:0.55548, valid acc:0.74074, auc_score:0.80772\n",
      "train loss:0.31739,train acc:0.99691, valid loss:0.56122, valid acc:0.74691, auc_score:0.80772\n",
      "train loss:0.31590,train acc:0.99846, valid loss:0.56094, valid acc:0.72840, auc_score:0.80899\n",
      "train loss:0.31594,train acc:0.99846, valid loss:0.56219, valid acc:0.72222, auc_score:0.80166\n",
      "--------------------This is 4th fold.10epochごとの結果を以下に出力--------------------\n",
      "Early Stopping is working in 45th epoch.\n",
      "Best auc score in validation is 0.868526535193202\n",
      "train loss:0.66332,train acc:0.60185, valid loss:0.66365, valid acc:0.61111, auc_score:0.81129\n",
      "train loss:0.31973,train acc:0.99537, valid loss:0.53414, valid acc:0.75926, auc_score:0.84496\n",
      "train loss:0.31892,train acc:0.99537, valid loss:0.53221, valid acc:0.75309, auc_score:0.83983\n",
      "train loss:0.31882,train acc:0.99537, valid loss:0.53174, valid acc:0.77778, auc_score:0.86772\n",
      "train loss:0.31881,train acc:0.99537, valid loss:0.53128, valid acc:0.76543, auc_score:0.85313\n",
      "--------------------This is 5th fold.10epochごとの結果を以下に出力--------------------\n",
      "Early Stopping is working in 47th epoch.\n",
      "Best auc score in validation is 0.81000481000481\n",
      "train loss:0.64575,train acc:0.60340, valid loss:0.65735, valid acc:0.67901, auc_score:0.76046\n",
      "train loss:0.31799,train acc:0.99691, valid loss:0.56176, valid acc:0.70988, auc_score:0.79974\n",
      "train loss:0.31745,train acc:0.99691, valid loss:0.56259, valid acc:0.71605, auc_score:0.81000\n",
      "train loss:0.31435,train acc:1.00000, valid loss:0.56412, valid acc:0.72222, auc_score:0.80231\n",
      "train loss:0.31430,train acc:1.00000, valid loss:0.56369, valid acc:0.71605, auc_score:0.79076\n"
     ]
    }
   ],
   "metadata": {}
  },
  {
   "cell_type": "code",
   "execution_count": 8,
   "source": [
    "model = Net_deeper_elu().to(device)\r\n",
    "model.eval()\r\n",
    "model.load_state_dict(torch.load(\"model.pth\"))\r\n",
    "test_data_tensor = torch.tensor(np.array(test_data.astype('f')))\r\n",
    "prediction_deeper_elu = model.forward(test_data_tensor.to(device))\r\n",
    "# print(bn_prediction)\r\n",
    "print(prediction_deeper_elu[:,1])\r\n",
    "df_submission = pd.read_csv(\"./dataset/sample_submission.csv\",header = 0)\r\n",
    "df_submission['sex'] = prediction_deeper_elu[:, 1].to('cpu').detach().numpy().copy()\r\n",
    "df_submission.to_csv(\"./predicted_label/DNN_deeper_elu.csv\")"
   ],
   "outputs": [
    {
     "output_type": "stream",
     "name": "stdout",
     "text": [
      "tensor([8.3489e-01, 8.4105e-01, 9.9968e-01, 5.8382e-04, 9.9856e-01, 3.6883e-02,\n",
      "        6.7456e-01, 7.3420e-02, 9.9945e-01, 9.9560e-01, 9.8923e-01, 9.9536e-01,\n",
      "        9.3438e-01, 9.0294e-01, 9.7370e-01, 5.3641e-01, 3.6033e-03, 1.4421e-01,\n",
      "        3.5614e-01, 9.6844e-01, 9.8661e-01, 1.1420e-01, 3.8427e-02, 7.5880e-01,\n",
      "        9.9646e-01, 7.9554e-02, 6.0484e-01, 1.6634e-01, 3.8393e-03, 8.9741e-01,\n",
      "        6.0413e-01, 2.6333e-02, 4.3738e-01, 9.2383e-01, 3.4997e-06, 9.9754e-01,\n",
      "        3.8307e-01, 9.9389e-01, 9.6546e-01, 3.2168e-03, 9.9105e-01, 1.8054e-03,\n",
      "        1.2829e-02, 2.7576e-01, 2.1496e-02, 8.4228e-02, 9.8797e-01, 9.9861e-01,\n",
      "        9.5973e-01, 9.9672e-01, 1.2004e-01, 3.1759e-01, 9.8623e-01, 9.6161e-01,\n",
      "        9.5716e-01, 1.7287e-02, 9.9784e-01, 9.9787e-01, 3.2432e-04, 2.7872e-02,\n",
      "        1.6335e-01, 2.3910e-03, 4.7581e-04, 7.3343e-01, 5.6915e-01, 7.3455e-03,\n",
      "        8.8785e-01, 9.9974e-01, 1.2870e-02, 9.9586e-01, 1.1359e-01, 9.9792e-01,\n",
      "        6.3772e-02, 9.9966e-01, 9.4792e-02, 8.6342e-01, 4.5791e-04, 9.9798e-01,\n",
      "        9.8765e-01, 9.9585e-01, 9.7291e-01], device='cuda:0',\n",
      "       grad_fn=<SelectBackward>)\n"
     ]
    }
   ],
   "metadata": {}
  },
  {
   "cell_type": "code",
   "execution_count": 9,
   "source": [
    "# elu ordered(linear -> batch norm -> elu -> dropout)\r\n",
    "num = 0\r\n",
    "n_epoch = 500\r\n",
    "for train_idx, valid_idx in skf.split(train_data, train_label):\r\n",
    "    print(f\"--------------------This is {num + 1}th fold.10epochごとの結果を以下に出力--------------------\")\r\n",
    "    # modelの初期化\r\n",
    "    model = Net_deeper_elu2().to(device)\r\n",
    "    optimizer = optim.SGD(model.parameters(), lr = 1e-2, momentum = 0.9, weight_decay = 5e-3)\r\n",
    "    best_score = 0\r\n",
    "    # 分割した訓練データと検証データをtensor型に変換\r\n",
    "    trainloader, validloader, valid_data, valid_label = df2tensor(\r\n",
    "        train_data.iloc[train_idx], train_label.iloc[train_idx],\r\n",
    "        train_data.iloc[valid_idx], train_label.iloc[valid_idx], batch_size = 64)\r\n",
    "    # モデルの訓練と評価, earlystoppipngによっていちばんauc_scoreの高かった\r\n",
    "    train_acc_list, train_loss_list, valid_acc_list, valid_loss_list, auc_score_list = train_valid_loop_lossbased(\r\n",
    "        trainloader, validloader, valid_data, valid_label, model, n_epoch, optimizer)\r\n",
    "    auc_score = np.max(auc_score_list)\r\n",
    "    if auc_score > best_score:\r\n",
    "        best_score = auc_score\r\n",
    "        # この辺のfoldごとの最良モデルの読み込みをもう少しうまく、簡潔に書けないか\r\n",
    "        best_model = model.load_state_dict(torch.load(\"model.pth\"))\r\n",
    "    for a,b,c,d,e in zip(\r\n",
    "        train_loss_list, train_acc_list,\r\n",
    "        valid_loss_list, valid_acc_list, auc_score_list):\r\n",
    "        print(f\"train loss:{a:.5f},train acc:{b:.5f}, valid loss:{c:.5f}, valid acc:{d:.5f}, auc_score:{e:.5f}\")\r\n",
    "    num += 1"
   ],
   "outputs": [
    {
     "output_type": "stream",
     "name": "stdout",
     "text": [
      "--------------------This is 1th fold.10epochごとの結果を以下に出力--------------------\n",
      "Early Stopping is working in 35th epoch.\n",
      "Best auc score in validation is 0.7598852040816327\n",
      "train loss:0.65546,train acc:0.61111, valid loss:0.67166, valid acc:0.64198, auc_score:0.70153\n",
      "train loss:0.31781,train acc:0.99846, valid loss:0.61189, valid acc:0.69136, auc_score:0.65242\n",
      "train loss:0.31509,train acc:1.00000, valid loss:0.60083, valid acc:0.69136, auc_score:0.75989\n",
      "train loss:0.31471,train acc:1.00000, valid loss:0.60878, valid acc:0.69136, auc_score:0.71158\n",
      "--------------------This is 2th fold.10epochごとの結果を以下に出力--------------------\n",
      "Early Stopping is working in 34th epoch.\n",
      "Best auc score in validation is 0.8066007653061225\n",
      "train loss:0.65288,train acc:0.59877, valid loss:0.68569, valid acc:0.59259, auc_score:0.68288\n",
      "train loss:0.31935,train acc:0.99691, valid loss:0.56532, valid acc:0.73457, auc_score:0.78284\n",
      "train loss:0.31798,train acc:0.99691, valid loss:0.56589, valid acc:0.73457, auc_score:0.76738\n",
      "train loss:0.31776,train acc:0.99691, valid loss:0.56998, valid acc:0.71605, auc_score:0.78380\n",
      "--------------------This is 3th fold.10epochごとの結果を以下に出力--------------------\n",
      "Early Stopping is working in 29th epoch.\n",
      "Best auc score in validation is 0.8158482142857143\n",
      "train loss:0.64971,train acc:0.60494, valid loss:0.68075, valid acc:0.54938, auc_score:0.72098\n",
      "train loss:0.31618,train acc:1.00000, valid loss:0.56928, valid acc:0.69753, auc_score:0.80038\n",
      "train loss:0.31489,train acc:1.00000, valid loss:0.56834, valid acc:0.71605, auc_score:0.73756\n",
      "train loss:0.31465,train acc:1.00000, valid loss:0.57450, valid acc:0.69753, auc_score:0.81585\n",
      "--------------------This is 4th fold.10epochごとの結果を以下に出力--------------------\n",
      "Early Stopping is working in 38th epoch.\n",
      "Best auc score in validation is 0.8653198653198654\n",
      "train loss:0.66800,train acc:0.58488, valid loss:0.67461, valid acc:0.57407, auc_score:0.80391\n",
      "train loss:0.32049,train acc:0.99537, valid loss:0.53816, valid acc:0.75926, auc_score:0.83566\n",
      "train loss:0.31639,train acc:0.99846, valid loss:0.53516, valid acc:0.75309, auc_score:0.85426\n",
      "train loss:0.31474,train acc:1.00000, valid loss:0.52757, valid acc:0.76543, auc_score:0.83935\n",
      "--------------------This is 5th fold.10epochごとの結果を以下に出力--------------------\n",
      "Early Stopping is working in 34th epoch.\n",
      "Best auc score in validation is 0.8152958152958153\n",
      "train loss:0.67253,train acc:0.59414, valid loss:0.68261, valid acc:0.51852, auc_score:0.79862\n",
      "train loss:0.31660,train acc:1.00000, valid loss:0.55463, valid acc:0.73457, auc_score:0.78018\n",
      "train loss:0.31498,train acc:1.00000, valid loss:0.55066, valid acc:0.74691, auc_score:0.80151\n",
      "train loss:0.31489,train acc:1.00000, valid loss:0.55503, valid acc:0.74074, auc_score:0.80568\n"
     ]
    }
   ],
   "metadata": {}
  },
  {
   "cell_type": "code",
   "execution_count": 10,
   "source": [
    "model = Net_deeper_elu2().to(device)\r\n",
    "model.eval()\r\n",
    "model.load_state_dict(torch.load(\"model.pth\"))\r\n",
    "test_data_tensor = torch.tensor(np.array(test_data.astype('f')))\r\n",
    "prediction_deeper_elu2 = model.forward(test_data_tensor.to(device))\r\n",
    "df_submission = pd.read_csv(\"./dataset/sample_submission.csv\",header = 0)\r\n",
    "df_submission['sex'] = prediction_deeper_elu2[:, 1].to('cpu').detach().numpy().copy()\r\n",
    "df_submission.to_csv(\"./predicted_label/DNN_deeper_elu2.csv\")"
   ],
   "outputs": [],
   "metadata": {}
  },
  {
   "cell_type": "code",
   "execution_count": 11,
   "source": [
    "# mishを使用\r\n",
    "num = 0\r\n",
    "n_epoch = 500\r\n",
    "for train_idx, valid_idx in skf.split(train_data, train_label):\r\n",
    "    print(f\"--------------------This is {num + 1}th fold.10epochごとの結果を以下に出力--------------------\")\r\n",
    "    # modelの初期化\r\n",
    "    model = Net_deeper_mish().to(device)\r\n",
    "    optimizer = optim.SGD(model.parameters(), lr = 1e-2, momentum = 0.9, weight_decay = 5e-3)\r\n",
    "    best_score = 0\r\n",
    "    # 分割した訓練データと検証データをtensor型に変換\r\n",
    "    trainloader, validloader, valid_data, valid_label = df2tensor(\r\n",
    "        train_data.iloc[train_idx], train_label.iloc[train_idx],\r\n",
    "        train_data.iloc[valid_idx], train_label.iloc[valid_idx], batch_size = 64)\r\n",
    "    # モデルの訓練と評価, earlystoppipngによっていちばんauc_scoreの高かった\r\n",
    "    train_acc_list, train_loss_list, valid_acc_list, valid_loss_list, auc_score_list = train_valid_loop_lossbased(\r\n",
    "        trainloader, validloader, valid_data, valid_label, model, n_epoch, optimizer)\r\n",
    "    auc_score = np.max(auc_score_list)\r\n",
    "    if auc_score > best_score:\r\n",
    "        best_score = auc_score\r\n",
    "        # この辺のfoldごとの最良モデルの読み込みをもう少しうまく、簡潔に書けないか\r\n",
    "        best_model = model.load_state_dict(torch.load(\"model.pth\"))\r\n",
    "    for a,b,c,d,e in zip(\r\n",
    "        train_loss_list, train_acc_list,\r\n",
    "        valid_loss_list, valid_acc_list, auc_score_list):\r\n",
    "        print(f\"train loss:{a:.5f},train acc:{b:.5f}, valid loss:{c:.5f}, valid acc:{d:.5f}, auc_score:{e:.5f}\")\r\n",
    "    num += 1"
   ],
   "outputs": [
    {
     "output_type": "stream",
     "name": "stdout",
     "text": [
      "--------------------This is 1th fold.10epochごとの結果を以下に出力--------------------\n",
      "Early Stopping is working in 50th epoch.\n",
      "Best auc score in validation is 0.7745535714285715\n",
      "train loss:0.63901,train acc:0.64043, valid loss:0.68759, valid acc:0.59877, auc_score:0.68240\n",
      "train loss:0.31831,train acc:0.99691, valid loss:0.59601, valid acc:0.67284, auc_score:0.74011\n",
      "train loss:0.31761,train acc:0.99691, valid loss:0.59520, valid acc:0.67901, auc_score:0.77041\n",
      "train loss:0.31746,train acc:0.99691, valid loss:0.59481, valid acc:0.67901, auc_score:0.77455\n",
      "train loss:0.31742,train acc:0.99691, valid loss:0.59473, valid acc:0.69136, auc_score:0.75207\n",
      "train loss:0.31744,train acc:0.99691, valid loss:0.59490, valid acc:0.69136, auc_score:0.74665\n",
      "--------------------This is 2th fold.10epochごとの結果を以下に出力--------------------\n",
      "Early Stopping is working in 52th epoch.\n",
      "Best auc score in validation is 0.8042091836734694\n",
      "train loss:0.65364,train acc:0.63272, valid loss:0.68768, valid acc:0.62346, auc_score:0.72417\n",
      "train loss:0.31677,train acc:0.99846, valid loss:0.57203, valid acc:0.70988, auc_score:0.77025\n",
      "train loss:0.31612,train acc:0.99846, valid loss:0.56956, valid acc:0.70370, auc_score:0.77902\n",
      "train loss:0.31447,train acc:1.00000, valid loss:0.56433, valid acc:0.71605, auc_score:0.77838\n",
      "train loss:0.31440,train acc:1.00000, valid loss:0.56224, valid acc:0.72222, auc_score:0.79799\n",
      "train loss:0.31441,train acc:1.00000, valid loss:0.56122, valid acc:0.72840, auc_score:0.79512\n",
      "--------------------This is 3th fold.10epochごとの結果を以下に出力--------------------\n",
      "Early Stopping is working in 50th epoch.\n",
      "Best auc score in validation is 0.8029336734693877\n",
      "train loss:0.64406,train acc:0.62037, valid loss:0.69083, valid acc:0.69136, auc_score:0.73438\n",
      "train loss:0.31500,train acc:1.00000, valid loss:0.57232, valid acc:0.70988, auc_score:0.75335\n",
      "train loss:0.31445,train acc:1.00000, valid loss:0.57004, valid acc:0.70988, auc_score:0.79177\n",
      "train loss:0.31432,train acc:1.00000, valid loss:0.56902, valid acc:0.70370, auc_score:0.78970\n",
      "train loss:0.31429,train acc:1.00000, valid loss:0.56847, valid acc:0.70370, auc_score:0.78715\n",
      "train loss:0.31430,train acc:1.00000, valid loss:0.56820, valid acc:0.70370, auc_score:0.78890\n",
      "--------------------This is 4th fold.10epochごとの結果を以下に出力--------------------\n",
      "Early Stopping is working in 51th epoch.\n",
      "Best auc score in validation is 0.8641975308641975\n",
      "train loss:0.66582,train acc:0.59568, valid loss:0.69956, valid acc:0.38889, auc_score:0.81995\n",
      "train loss:0.31800,train acc:0.99691, valid loss:0.53666, valid acc:0.74691, auc_score:0.83886\n",
      "train loss:0.31745,train acc:0.99691, valid loss:0.53494, valid acc:0.74691, auc_score:0.83454\n",
      "train loss:0.31733,train acc:0.99691, valid loss:0.53340, valid acc:0.74074, auc_score:0.83999\n",
      "train loss:0.31730,train acc:0.99691, valid loss:0.53160, valid acc:0.74691, auc_score:0.85009\n",
      "train loss:0.31731,train acc:0.99691, valid loss:0.52967, valid acc:0.75309, auc_score:0.85746\n",
      "--------------------This is 5th fold.10epochごとの結果を以下に出力--------------------\n",
      "Early Stopping is working in 48th epoch.\n",
      "Best auc score in validation is 0.8149751483084816\n",
      "train loss:0.65382,train acc:0.62191, valid loss:0.69392, valid acc:0.40123, auc_score:0.79093\n",
      "train loss:0.31801,train acc:0.99691, valid loss:0.55877, valid acc:0.72222, auc_score:0.81498\n",
      "train loss:0.31450,train acc:1.00000, valid loss:0.55809, valid acc:0.73457, auc_score:0.79076\n",
      "train loss:0.31437,train acc:1.00000, valid loss:0.55663, valid acc:0.74074, auc_score:0.80439\n",
      "train loss:0.31435,train acc:1.00000, valid loss:0.55572, valid acc:0.74691, auc_score:0.79862\n"
     ]
    }
   ],
   "metadata": {}
  },
  {
   "cell_type": "code",
   "execution_count": 12,
   "source": [
    "model = Net_deeper_mish().to(device)\r\n",
    "model.eval()\r\n",
    "model.load_state_dict(torch.load(\"model.pth\"))\r\n",
    "test_data_tensor = torch.tensor(np.array(test_data.astype('f')))\r\n",
    "prediction_deeper_mish = model.forward(test_data_tensor.to(device))\r\n",
    "print(prediction_deeper_elu[:,1])\r\n",
    "df_submission['sex'] = prediction_deeper_mish[:, 1].to('cpu').detach().numpy().copy()\r\n",
    "df_submission.to_csv(\"./predicted_label/DNN_deeper_mish.csv\")"
   ],
   "outputs": [
    {
     "output_type": "stream",
     "name": "stdout",
     "text": [
      "tensor([8.3489e-01, 8.4105e-01, 9.9968e-01, 5.8382e-04, 9.9856e-01, 3.6883e-02,\n",
      "        6.7456e-01, 7.3420e-02, 9.9945e-01, 9.9560e-01, 9.8923e-01, 9.9536e-01,\n",
      "        9.3438e-01, 9.0294e-01, 9.7370e-01, 5.3641e-01, 3.6033e-03, 1.4421e-01,\n",
      "        3.5614e-01, 9.6844e-01, 9.8661e-01, 1.1420e-01, 3.8427e-02, 7.5880e-01,\n",
      "        9.9646e-01, 7.9554e-02, 6.0484e-01, 1.6634e-01, 3.8393e-03, 8.9741e-01,\n",
      "        6.0413e-01, 2.6333e-02, 4.3738e-01, 9.2383e-01, 3.4997e-06, 9.9754e-01,\n",
      "        3.8307e-01, 9.9389e-01, 9.6546e-01, 3.2168e-03, 9.9105e-01, 1.8054e-03,\n",
      "        1.2829e-02, 2.7576e-01, 2.1496e-02, 8.4228e-02, 9.8797e-01, 9.9861e-01,\n",
      "        9.5973e-01, 9.9672e-01, 1.2004e-01, 3.1759e-01, 9.8623e-01, 9.6161e-01,\n",
      "        9.5716e-01, 1.7287e-02, 9.9784e-01, 9.9787e-01, 3.2432e-04, 2.7872e-02,\n",
      "        1.6335e-01, 2.3910e-03, 4.7581e-04, 7.3343e-01, 5.6915e-01, 7.3455e-03,\n",
      "        8.8785e-01, 9.9974e-01, 1.2870e-02, 9.9586e-01, 1.1359e-01, 9.9792e-01,\n",
      "        6.3772e-02, 9.9966e-01, 9.4792e-02, 8.6342e-01, 4.5791e-04, 9.9798e-01,\n",
      "        9.8765e-01, 9.9585e-01, 9.7291e-01], device='cuda:0',\n",
      "       grad_fn=<SelectBackward>)\n"
     ]
    }
   ],
   "metadata": {}
  }
 ],
 "metadata": {
  "orig_nbformat": 4,
  "language_info": {
   "name": "python",
   "version": "3.7.10",
   "mimetype": "text/x-python",
   "codemirror_mode": {
    "name": "ipython",
    "version": 3
   },
   "pygments_lexer": "ipython3",
   "nbconvert_exporter": "python",
   "file_extension": ".py"
  },
  "kernelspec": {
   "name": "python3",
   "display_name": "Python 3.7.10 64-bit ('base': conda)"
  },
  "interpreter": {
   "hash": "c939a731ced144f499ba8faa07b12f85fe28d8c853ba633eb8f0980b6dd55f84"
  }
 },
 "nbformat": 4,
 "nbformat_minor": 2
}